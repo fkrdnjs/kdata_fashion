{
 "cells": [
  {
   "cell_type": "code",
   "execution_count": 1,
   "metadata": {},
   "outputs": [
    {
     "name": "stdout",
     "output_type": "stream",
     "text": [
      "Requirement already satisfied: flask in c:\\users\\neverland\\appdata\\local\\programs\\python\\python310\\lib\\site-packages (2.3.2)Note: you may need to restart the kernel to use updated packages.\n"
     ]
    },
    {
     "name": "stderr",
     "output_type": "stream",
     "text": [
      "\n",
      "[notice] A new release of pip is available: 23.1.2 -> 23.2.1\n",
      "[notice] To update, run: python.exe -m pip install --upgrade pip\n"
     ]
    },
    {
     "name": "stdout",
     "output_type": "stream",
     "text": [
      "\n",
      "Collecting flask-bootstrap\n",
      "  Downloading Flask-Bootstrap-3.3.7.1.tar.gz (456 kB)\n",
      "     -------------------------------------- 456.4/456.4 kB 9.5 MB/s eta 0:00:00\n",
      "  Preparing metadata (setup.py): started\n",
      "  Preparing metadata (setup.py): finished with status 'done'\n",
      "Requirement already satisfied: Werkzeug>=2.3.3 in c:\\users\\neverland\\appdata\\local\\programs\\python\\python310\\lib\\site-packages (from flask) (2.3.6)\n",
      "Requirement already satisfied: Jinja2>=3.1.2 in c:\\users\\neverland\\appdata\\local\\programs\\python\\python310\\lib\\site-packages (from flask) (3.1.2)\n",
      "Requirement already satisfied: itsdangerous>=2.1.2 in c:\\users\\neverland\\appdata\\local\\programs\\python\\python310\\lib\\site-packages (from flask) (2.1.2)\n",
      "Requirement already satisfied: click>=8.1.3 in c:\\users\\neverland\\appdata\\local\\programs\\python\\python310\\lib\\site-packages (from flask) (8.1.3)\n",
      "Requirement already satisfied: blinker>=1.6.2 in c:\\users\\neverland\\appdata\\local\\programs\\python\\python310\\lib\\site-packages (from flask) (1.6.2)\n",
      "Collecting dominate (from flask-bootstrap)\n",
      "  Downloading dominate-2.8.0-py2.py3-none-any.whl (29 kB)\n",
      "Collecting visitor (from flask-bootstrap)\n",
      "  Downloading visitor-0.1.3.tar.gz (3.3 kB)\n",
      "  Preparing metadata (setup.py): started\n",
      "  Preparing metadata (setup.py): finished with status 'done'\n",
      "Requirement already satisfied: colorama in c:\\users\\neverland\\appdata\\local\\programs\\python\\python310\\lib\\site-packages (from click>=8.1.3->flask) (0.4.5)\n",
      "Requirement already satisfied: MarkupSafe>=2.0 in c:\\users\\neverland\\appdata\\local\\programs\\python\\python310\\lib\\site-packages (from Jinja2>=3.1.2->flask) (2.1.1)\n",
      "Building wheels for collected packages: flask-bootstrap, visitor\n",
      "  Building wheel for flask-bootstrap (setup.py): started\n",
      "  Building wheel for flask-bootstrap (setup.py): finished with status 'done'\n",
      "  Created wheel for flask-bootstrap: filename=Flask_Bootstrap-3.3.7.1-py3-none-any.whl size=460142 sha256=adeca224e5ffa2d57c6c4bb49a45ab2e1f07dc5ccc0ea09c5aae0aced5798de9\n",
      "  Stored in directory: c:\\users\\neverland\\appdata\\local\\pip\\cache\\wheels\\6f\\33\\ad\\26540e84a28334e5dfeda756df270f95353779f03bc5cf40d4\n",
      "  Building wheel for visitor (setup.py): started\n",
      "  Building wheel for visitor (setup.py): finished with status 'done'\n",
      "  Created wheel for visitor: filename=visitor-0.1.3-py3-none-any.whl size=3969 sha256=6fff8eea6133473584ee38d245085c7b51ce57400c481d6e1d100b2f50dddc3b\n",
      "  Stored in directory: c:\\users\\neverland\\appdata\\local\\pip\\cache\\wheels\\19\\31\\99\\2ec5b4459cac4d801d6201d501a354366d180afc9f8bb2d333\n",
      "Successfully built flask-bootstrap visitor\n",
      "Installing collected packages: visitor, dominate, flask-bootstrap\n",
      "Successfully installed dominate-2.8.0 flask-bootstrap-3.3.7.1 visitor-0.1.3\n"
     ]
    }
   ],
   "source": [
    "pip install flask flask-bootstrap"
   ]
  },
  {
   "cell_type": "code",
   "execution_count": null,
   "metadata": {},
   "outputs": [],
   "source": []
  }
 ],
 "metadata": {
  "kernelspec": {
   "display_name": "Python 3",
   "language": "python",
   "name": "python3"
  },
  "language_info": {
   "codemirror_mode": {
    "name": "ipython",
    "version": 3
   },
   "file_extension": ".py",
   "mimetype": "text/x-python",
   "name": "python",
   "nbconvert_exporter": "python",
   "pygments_lexer": "ipython3",
   "version": "3.10.2"
  },
  "orig_nbformat": 4
 },
 "nbformat": 4,
 "nbformat_minor": 2
}
